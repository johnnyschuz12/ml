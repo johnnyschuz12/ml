{
 "cells": [
  {
   "cell_type": "code",
   "execution_count": 1,
   "id": "154c386e",
   "metadata": {},
   "outputs": [
    {
     "name": "stderr",
     "output_type": "stream",
     "text": [
      "/opt/homebrew/lib/python3.10/site-packages/tqdm/auto.py:22: TqdmWarning: IProgress not found. Please update jupyter and ipywidgets. See https://ipywidgets.readthedocs.io/en/stable/user_install.html\n",
      "  from .autonotebook import tqdm as notebook_tqdm\n",
      "/opt/homebrew/lib/python3.10/site-packages/deeplake/util/check_latest_version.py:32: UserWarning: A newer version of deeplake (3.2.5) is available. It's recommended that you update to the latest version using `pip install -U deeplake`.\n",
      "  warnings.warn(\n"
     ]
    }
   ],
   "source": [
    "import alexnet\n",
    "from alexnet.run import run_nn\n",
    "import torch\n",
    "import torchvision\n",
    "from torchvision import datasets, transforms, utils\n",
    "import matplotlib as mpl\n",
    "import deeplake\n",
    "import warnings\n",
    "warnings.filterwarnings(\"ignore\")"
   ]
  },
  {
   "cell_type": "code",
   "execution_count": 2,
   "id": "f2b4b0cc",
   "metadata": {},
   "outputs": [
    {
     "name": "stdout",
     "output_type": "stream",
     "text": [
      "hub://activeloop/tiny-imagenet-train loaded successfully.\n",
      "This dataset can be visualized in Jupyter Notebook by ds.visualize() or at https://app.activeloop.ai/activeloop/tiny-imagenet-train\n",
      "hub://activeloop/tiny-imagenet-validation loaded successfully.\n",
      "This dataset can be visualized in Jupyter Notebook by ds.visualize() or at https://app.activeloop.ai/activeloop/tiny-imagenet-validation\n",
      "hub://activeloop/tiny-imagenet-test loaded successfully.\n",
      "This dataset can be visualized in Jupyter Notebook by ds.visualize() or at https://app.activeloop.ai/activeloop/tiny-imagenet-test\n"
     ]
    }
   ],
   "source": [
    "ds_train = deeplake.load(\"hub://activeloop/tiny-imagenet-train\")\n",
    "ds_val = deeplake.load(\"hub://activeloop/tiny-imagenet-validation\")\n",
    "ds_test = deeplake.load(\"hub://activeloop/tiny-imagenet-test\")\n",
    "\n",
    "\n",
    "tform = transforms.Compose([\n",
    "    transforms.ToPILImage(), # Must convert to PIL image for subsequent operations to run\n",
    "    transforms.RandomRotation(20), # Image augmentation\n",
    "    transforms.ToTensor(), # Must convert to pytorch tensor for subsequent operations to run\n",
    "    transforms.Lambda(lambda x: x.repeat(int(3/x.shape[0]), 1, 1)), # Some images are grayscale, so we need to add channels\n",
    "    transforms.Normalize([0.485, 0.456, 0.406], [0.229, 0.224, 0.225]),\n",
    "])"
   ]
  },
  {
   "cell_type": "code",
   "execution_count": null,
   "id": "2e03dc37",
   "metadata": {},
   "outputs": [
    {
     "name": "stdout",
     "output_type": "stream",
     "text": [
      "Working part: 10000\n",
      "Working part: 20000\n",
      "Epoch: 0, Loss: 3.0141706033098696, Acc: 0.11829\n",
      "Working part: 10000\n",
      "Working part: 20000\n",
      "Epoch: 1, Loss: 2.442167232938707, Acc: 0.22477\n",
      "Working part: 10000\n",
      "Working part: 20000\n",
      "Epoch: 2, Loss: 2.205835178569201, Acc: 0.30271\n"
     ]
    }
   ],
   "source": [
    "# Run NN\n",
    "run_nn(ds_train, ds_val, tform)"
   ]
  },
  {
   "cell_type": "code",
   "execution_count": null,
   "id": "9dc07632",
   "metadata": {},
   "outputs": [],
   "source": []
  }
 ],
 "metadata": {
  "kernelspec": {
   "display_name": "Python 3 (ipykernel)",
   "language": "python",
   "name": "python3"
  },
  "language_info": {
   "codemirror_mode": {
    "name": "ipython",
    "version": 3
   },
   "file_extension": ".py",
   "mimetype": "text/x-python",
   "name": "python",
   "nbconvert_exporter": "python",
   "pygments_lexer": "ipython3",
   "version": "3.10.9"
  }
 },
 "nbformat": 4,
 "nbformat_minor": 5
}
